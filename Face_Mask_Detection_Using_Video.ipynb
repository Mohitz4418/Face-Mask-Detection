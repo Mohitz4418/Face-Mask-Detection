{
 "cells": [
  {
   "cell_type": "code",
   "execution_count": 1,
   "metadata": {},
   "outputs": [],
   "source": [
    "import numpy as np\n",
    "import matplotlib.pyplot as plt\n",
    "import pandas as pd\n",
    "import cv2\n",
    "import os\n",
    "from tensorflow.keras.applications.mobilenet_v2 import preprocess_input\n",
    "from tensorflow.keras.preprocessing.image import img_to_array\n",
    "from tensorflow.keras.models import load_model\n",
    "from imutils.video import VideoStream\n",
    "import imutils"
   ]
  },
  {
   "cell_type": "code",
   "execution_count": 2,
   "metadata": {},
   "outputs": [],
   "source": [
    "def detect_and_predict_mask(frame,faceNet,maskNet):\n",
    "    \n",
    "    # Grab the dimensions of the frame and then construct a blob\n",
    "    \n",
    "    (h, w) = frame.shape[:2]\n",
    "    blob = cv2.dnn.blobFromImage(frame, 1.0, (300, 300), (104.0, 177.0, 123.0))\n",
    "    \n",
    "    faceNet.setInput(blob)\n",
    "    detections = faceNet.forward()\n",
    "    \n",
    "    # Initialize our list of faces, their corresponding locations and list of predictions\n",
    "    \n",
    "    faces = []\n",
    "    locs = []\n",
    "    preds = []\n",
    "     \n",
    "    for i in range(0, detections.shape[2]):\n",
    "        confidence = detections[0, 0, i, 2]\n",
    "    \n",
    "        if confidence > 0.5:\n",
    "        \n",
    "        # We need the X,Y coordinates\n",
    "            box = detections[0, 0, i, 3 : 7] * np.array([w, h, w, h])\n",
    "            (startX, startY, endX, endY) = box.astype(\"int\")\n",
    "        \n",
    "            # Ensure the bounding boxes fall within the dimensions of the frame\n",
    "            \n",
    "            (startX, startY) = (max(0, startX), max(0, startY))\n",
    "            (endX, endY) = (min(w - 1, endX), min(h - 1, endY))\n",
    "        \n",
    "            # Extract the face ROI, convert it from BGR to RGB channel, resize it to 224,224 and preprocess it\n",
    "            \n",
    "            face = frame[startY : endY, startX : endX]\n",
    "            face = cv2.cvtColor(face, cv2.COLOR_BGR2RGB)\n",
    "            face = cv2.resize(face,(224, 224))\n",
    "            face = img_to_array(face)\n",
    "            face = preprocess_input(face)\n",
    "        \n",
    "            faces.append(face)\n",
    "            locs.append((startX, startY, endX, endY))\n",
    "        \n",
    "        # Only make a predictions if atleast one face was detected\n",
    "        \n",
    "        if len(faces) > 0:\n",
    "            faces = np.array(faces, dtype = \"float32\")\n",
    "            preds = maskNet.predict(faces, batch_size = 12)\n",
    "        \n",
    "        return (locs, preds)"
   ]
  },
  {
   "cell_type": "code",
   "execution_count": 3,
   "metadata": {},
   "outputs": [],
   "source": [
    "prototxtPath = os.path.sep.join([r\"C:\\Users\\mohit\\OneDrive\\Desktop\\Upgrad\\Mask Detection using Transfer Learning\",\n",
    "                               \"deploy.prototxt\"])\n",
    "weightsPath = os.path.sep.join([r\"C:\\Users\\mohit\\OneDrive\\Desktop\\Upgrad\\Mask Detection using Transfer Learning\",\n",
    "                              \"res10_300x300_ssd_iter_140000.caffemodel\"])"
   ]
  },
  {
   "cell_type": "code",
   "execution_count": 4,
   "metadata": {},
   "outputs": [],
   "source": [
    "faceNet = cv2.dnn.readNet(prototxtPath, weightsPath)"
   ]
  },
  {
   "cell_type": "code",
   "execution_count": 5,
   "metadata": {},
   "outputs": [],
   "source": [
    "maskNet = load_model(r\"C:\\Users\\mohit\\OneDrive\\Desktop\\Upgrad\\Mask Detection using Transfer Learning\\mobilenet_v2.model\")"
   ]
  },
  {
   "cell_type": "code",
   "execution_count": null,
   "metadata": {},
   "outputs": [],
   "source": [
    "vs = VideoStream(src = 0).start()\n",
    "\n",
    "while True:\n",
    "    \n",
    "    # Grab the frame from the threaded video stream and resize it\n",
    "    # To have a maximum width of 400 pixels\n",
    "    \n",
    "    frame = vs.read()\n",
    "    frame = imutils.resize(frame, width = 400)\n",
    "    \n",
    "    # Detect faces in the frame and preict if they are waring masks or not\n",
    "    \n",
    "    (locs, preds) = detect_and_predict_mask(frame, faceNet, maskNet)\n",
    "    \n",
    "    #Loop over the detected face locations and their corrosponding loactions\n",
    "    \n",
    "    for (box, pred) in zip(locs, preds):\n",
    "        (startX, startY, endX, endY) = box\n",
    "        (mask, withoutMask) = pred\n",
    "        \n",
    "        # Determine the class label and color we will use to draw the bounding box and text\n",
    "        \n",
    "        label = \"Mask\" if mask > withoutMask else \"No Mask\"\n",
    "        color = (0, 255 ,0) if label == \"Mask\" else (0, 0, 255)\n",
    "        \n",
    "        # Display the label and bounding boxes\n",
    "        \n",
    "        cv2.putText(frame, label, (startX, startY - 10), cv2.FONT_HERSHEY_SIMPLEX, 0.45, color, 2)\n",
    "        cv2.rectangle(frame, (startX, startY), (endX, endY), color, 2)\n",
    "        \n",
    "    # Show the output frame\n",
    "    \n",
    "    cv2.imshow(\"Frame\", frame)\n",
    "    key = cv2.waitKey(1) & 0xFF\n",
    "    \n",
    "    if key == ord(\"q\"):\n",
    "        break\n",
    "        \n",
    "cv2.destroyAllWindows()\n",
    "vs.stop()"
   ]
  },
  {
   "cell_type": "code",
   "execution_count": null,
   "metadata": {},
   "outputs": [],
   "source": []
  }
 ],
 "metadata": {
  "kernelspec": {
   "display_name": "Python 3",
   "language": "python",
   "name": "python3"
  },
  "language_info": {
   "codemirror_mode": {
    "name": "ipython",
    "version": 3
   },
   "file_extension": ".py",
   "mimetype": "text/x-python",
   "name": "python",
   "nbconvert_exporter": "python",
   "pygments_lexer": "ipython3",
   "version": "3.8.5"
  }
 },
 "nbformat": 4,
 "nbformat_minor": 4
}
